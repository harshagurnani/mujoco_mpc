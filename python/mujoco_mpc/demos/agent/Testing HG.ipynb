{
 "cells": [
  {
   "cell_type": "code",
   "execution_count": 1,
   "metadata": {},
   "outputs": [
    {
     "name": "stdout",
     "output_type": "stream",
     "text": [
      "/Users/harshagurnani/Documents/GitHub/mujoco_mpc/python\n"
     ]
    },
    {
     "name": "stderr",
     "output_type": "stream",
     "text": [
      "/Users/harshagurnani/anaconda3/envs/mujpc/lib/python3.10/site-packages/tqdm/auto.py:21: TqdmWarning: IProgress not found. Please update jupyter and ipywidgets. See https://ipywidgets.readthedocs.io/en/stable/user_install.html\n",
      "  from .autonotebook import tqdm as notebook_tqdm\n"
     ]
    }
   ],
   "source": [
    "# Copyright 2022 DeepMind Technologies Limited\n",
    "#\n",
    "# Licensed under the Apache License, Version 2.0 (the \"License\");\n",
    "# you may not use this file except in compliance with the License.\n",
    "# You may obtain a copy of the License at\n",
    "#\n",
    "#     http://www.apache.org/licenses/LICENSE-2.0\n",
    "#\n",
    "# Unless required by applicable law or agreed to in writing, software\n",
    "# distributed under the License is distributed on an \"AS IS\" BASIS,\n",
    "# WITHOUT WARRANTIES OR CONDITIONS OF ANY KIND, either express or implied.\n",
    "# See the License for the specific language governing permissions and\n",
    "# limitations under the License.\n",
    "# %%\n",
    "import matplotlib.pyplot as plt\n",
    "import mediapy as media\n",
    "import mujoco\n",
    "import numpy as np\n",
    "import pathlib\n",
    "import PIL.Image\n",
    "from tqdm.auto import tqdm\n",
    "# set current directory: mujoco_mpc/python/mujoco_mpc\n",
    "import os\n",
    "from pathlib import Path\n",
    "os.chdir(Path.cwd().parent.parent.parent)\n",
    "print(Path.cwd())\n",
    "from mujoco_mpc import agent as agent_lib\n"
   ]
  },
  {
   "cell_type": "code",
   "execution_count": 6,
   "metadata": {},
   "outputs": [
    {
     "name": "stderr",
     "output_type": "stream",
     "text": [
      "WARNING: All log messages before absl::InitializeLog() is called are written to STDERR\n",
      "I0000 00:00:1720159203.290994  868317 agent_server.cc:55] Server listening on [::]:55368\n"
     ]
    }
   ],
   "source": [
    "\n",
    "# %matplotlib inline\n",
    "base_path = pathlib.Path('/Users/harshagurnani/Documents/GitHub/mujoco_mpc/')\n",
    "# %%\n",
    "# model\n",
    "model_path = base_path / 'mjpc/tasks/fruitfly/flystand/task.xml'\n",
    "# model_path = base_path / 'build/mjpc/tasks/cartpole/task.xml'\n",
    "    # pathlib.Path('/Users/eabe/Research/MyRepos/BiomechControl/models/fruitfly_v2/flybody/fruitfly/assets/fruitfly.xml')\n",
    "\n",
    "model = mujoco.MjModel.from_xml_path(model_path.as_posix())\n",
    "\n",
    "# data\n",
    "data = mujoco.MjData(model)\n",
    "\n",
    "# renderer\n",
    "renderer = mujoco.Renderer(model)\n",
    "\n",
    "# %%\n",
    "# agent\n",
    "agent = agent_lib.Agent(task_id=\"Fruitfly Stand\", model=model)\n",
    "# agent = agent_lib.Agent(task_id=\"Cartpole\", model=model)\n",
    "\n",
    "# weights\n",
    "# agent.set_cost_weights({\"Velocity\": 0.15})\n",
    "# print(\"cost_weights\", agent.get_cost_weights())\n",
    "\n",
    "# parameters\n",
    "# agent.set_task_parameter(\"Height Goal\", .1)\n",
    "# print(\"Parameters:\", agent.get_task_parameters())\n",
    "\n",
    "# %%\n",
    "# rollout horizon\n",
    "T = 1500\n",
    "\n",
    "# trajectories\n",
    "qpos = np.zeros((model.nq, T))\n",
    "qvel = np.zeros((model.nv, T))\n",
    "ctrl = np.zeros((model.nu, T - 1))\n",
    "time = np.zeros(T)\n",
    "\n",
    "# costs\n",
    "cost_total = np.zeros(T - 1)\n",
    "cost_terms = np.zeros((len(agent.get_cost_term_values()), T - 1))\n",
    "\n",
    "# rollout\n",
    "mujoco.mj_resetData(model, data)\n",
    "\n",
    "# cache initial state\n",
    "qpos[:, 0] = data.qpos\n",
    "qvel[:, 0] = data.qvel\n",
    "time[0] = data.time\n",
    "\n",
    "# frames\n",
    "frames = []\n",
    "FPS = 1.0 / model.opt.timestep\n"
   ]
  },
  {
   "cell_type": "code",
   "execution_count": 7,
   "metadata": {},
   "outputs": [
    {
     "ename": "KeyError",
     "evalue": "\"Invalid name 'thorax_gyro'. Valid names: ['Balance', 'CoM Vel.', 'Control', 'Height', 'Joint Vel.', 'T1_left_pos', 'T1_right_pos', 'T2_left_pos', 'T2_right_pos', 'T3_left_pos', 'T3_right_pos', 'claw_T1_left', 'claw_T1_right', 'claw_T2_left', 'claw_T2_right', 'claw_T3_left', 'claw_T3_right', 'pos_coxa_T1_left', 'pos_coxa_T1_right', 'pos_coxa_T2_left', 'pos_coxa_T2_right', 'pos_coxa_T3_left', 'pos_coxa_T3_right', 'pos_coxa_abduct_T1_left', 'pos_coxa_abduct_T1_right', 'pos_coxa_abduct_T2_left', 'pos_coxa_abduct_T2_right', 'pos_coxa_abduct_T3_left', 'pos_coxa_abduct_T3_right', 'pos_coxa_twist_T1_left', 'pos_coxa_twist_T1_right', 'pos_coxa_twist_T2_left', 'pos_coxa_twist_T2_right', 'pos_coxa_twist_T3_left', 'pos_coxa_twist_T3_right', 'pos_femur_T1_left', 'pos_femur_T1_right', 'pos_femur_T2_left', 'pos_femur_T2_right', 'pos_femur_T3_left', 'pos_femur_T3_right', 'pos_femur_twist_T1_left', 'pos_femur_twist_T1_right', 'pos_femur_twist_T2_left', 'pos_femur_twist_T2_right', 'pos_femur_twist_T3_left', 'pos_femur_twist_T3_right', 'pos_tarsus2_T1_left', 'pos_tarsus2_T1_right', 'pos_tarsus2_T2_left', 'pos_tarsus2_T2_right', 'pos_tarsus2_T3_left', 'pos_tarsus2_T3_right', 'pos_tarsus3_T1_left', 'pos_tarsus3_T1_right', 'pos_tarsus3_T2_left', 'pos_tarsus3_T2_right', 'pos_tarsus3_T3_left', 'pos_tarsus3_T3_right', 'pos_tarsus4_T1_left', 'pos_tarsus4_T1_right', 'pos_tarsus4_T2_left', 'pos_tarsus4_T2_right', 'pos_tarsus4_T3_left', 'pos_tarsus4_T3_right', 'pos_tarsus_T1_left', 'pos_tarsus_T1_right', 'pos_tarsus_T2_left', 'pos_tarsus_T2_right', 'pos_tarsus_T3_left', 'pos_tarsus_T3_right', 'pos_tibia_T1_left', 'pos_tibia_T1_right', 'pos_tibia_T2_left', 'pos_tibia_T2_right', 'pos_tibia_T3_left', 'pos_tibia_T3_right', 'thorax_angmom', 'thorax_pos', 'thorax_subtreecom', 'thorax_subtreelinvel', 'trace0']\"",
     "output_type": "error",
     "traceback": [
      "\u001b[0;31m---------------------------------------------------------------------------\u001b[0m",
      "\u001b[0;31mKeyError\u001b[0m                                  Traceback (most recent call last)",
      "Cell \u001b[0;32mIn[7], line 1\u001b[0m\n\u001b[0;32m----> 1\u001b[0m \u001b[43mdata\u001b[49m\u001b[38;5;241;43m.\u001b[39;49m\u001b[43msensor\u001b[49m\u001b[43m(\u001b[49m\u001b[38;5;124;43m'\u001b[39;49m\u001b[38;5;124;43mthorax_gyro\u001b[39;49m\u001b[38;5;124;43m'\u001b[39;49m\u001b[43m)\u001b[49m\n",
      "\u001b[0;31mKeyError\u001b[0m: \"Invalid name 'thorax_gyro'. Valid names: ['Balance', 'CoM Vel.', 'Control', 'Height', 'Joint Vel.', 'T1_left_pos', 'T1_right_pos', 'T2_left_pos', 'T2_right_pos', 'T3_left_pos', 'T3_right_pos', 'claw_T1_left', 'claw_T1_right', 'claw_T2_left', 'claw_T2_right', 'claw_T3_left', 'claw_T3_right', 'pos_coxa_T1_left', 'pos_coxa_T1_right', 'pos_coxa_T2_left', 'pos_coxa_T2_right', 'pos_coxa_T3_left', 'pos_coxa_T3_right', 'pos_coxa_abduct_T1_left', 'pos_coxa_abduct_T1_right', 'pos_coxa_abduct_T2_left', 'pos_coxa_abduct_T2_right', 'pos_coxa_abduct_T3_left', 'pos_coxa_abduct_T3_right', 'pos_coxa_twist_T1_left', 'pos_coxa_twist_T1_right', 'pos_coxa_twist_T2_left', 'pos_coxa_twist_T2_right', 'pos_coxa_twist_T3_left', 'pos_coxa_twist_T3_right', 'pos_femur_T1_left', 'pos_femur_T1_right', 'pos_femur_T2_left', 'pos_femur_T2_right', 'pos_femur_T3_left', 'pos_femur_T3_right', 'pos_femur_twist_T1_left', 'pos_femur_twist_T1_right', 'pos_femur_twist_T2_left', 'pos_femur_twist_T2_right', 'pos_femur_twist_T3_left', 'pos_femur_twist_T3_right', 'pos_tarsus2_T1_left', 'pos_tarsus2_T1_right', 'pos_tarsus2_T2_left', 'pos_tarsus2_T2_right', 'pos_tarsus2_T3_left', 'pos_tarsus2_T3_right', 'pos_tarsus3_T1_left', 'pos_tarsus3_T1_right', 'pos_tarsus3_T2_left', 'pos_tarsus3_T2_right', 'pos_tarsus3_T3_left', 'pos_tarsus3_T3_right', 'pos_tarsus4_T1_left', 'pos_tarsus4_T1_right', 'pos_tarsus4_T2_left', 'pos_tarsus4_T2_right', 'pos_tarsus4_T3_left', 'pos_tarsus4_T3_right', 'pos_tarsus_T1_left', 'pos_tarsus_T1_right', 'pos_tarsus_T2_left', 'pos_tarsus_T2_right', 'pos_tarsus_T3_left', 'pos_tarsus_T3_right', 'pos_tibia_T1_left', 'pos_tibia_T1_right', 'pos_tibia_T2_left', 'pos_tibia_T2_right', 'pos_tibia_T3_left', 'pos_tibia_T3_right', 'thorax_angmom', 'thorax_pos', 'thorax_subtreecom', 'thorax_subtreelinvel', 'trace0']\""
     ]
    }
   ],
   "source": [
    "data.sensor('thorax_gyro')"
   ]
  },
  {
   "cell_type": "code",
   "execution_count": 8,
   "metadata": {},
   "outputs": [
    {
     "name": "stderr",
     "output_type": "stream",
     "text": [
      "  0%|          | 0/1499 [00:00<?, ?it/s]"
     ]
    },
    {
     "name": "stdout",
     "output_type": "stream",
     "text": [
      "t =  0\n"
     ]
    },
    {
     "name": "stderr",
     "output_type": "stream",
     "text": [
      "  0%|          | 2/1499 [00:12<2:40:28,  6.43s/it]\n"
     ]
    },
    {
     "ename": "KeyboardInterrupt",
     "evalue": "",
     "output_type": "error",
     "traceback": [
      "\u001b[0;31m---------------------------------------------------------------------------\u001b[0m",
      "\u001b[0;31mKeyboardInterrupt\u001b[0m                         Traceback (most recent call last)",
      "Cell \u001b[0;32mIn[8], line 20\u001b[0m\n\u001b[1;32m     18\u001b[0m num_steps \u001b[38;5;241m=\u001b[39m \u001b[38;5;241m10\u001b[39m\n\u001b[1;32m     19\u001b[0m \u001b[38;5;28;01mfor\u001b[39;00m _ \u001b[38;5;129;01min\u001b[39;00m \u001b[38;5;28mrange\u001b[39m(num_steps):\n\u001b[0;32m---> 20\u001b[0m   \u001b[43magent\u001b[49m\u001b[38;5;241;43m.\u001b[39;49m\u001b[43mplanner_step\u001b[49m\u001b[43m(\u001b[49m\u001b[43m)\u001b[49m\n\u001b[1;32m     22\u001b[0m \u001b[38;5;66;03m# get costs\u001b[39;00m\n\u001b[1;32m     23\u001b[0m cost_total[t] \u001b[38;5;241m=\u001b[39m agent\u001b[38;5;241m.\u001b[39mget_total_cost()\n",
      "File \u001b[0;32m~/Documents/GitHub/mujoco_mpc/python/mujoco_mpc/agent.py:277\u001b[0m, in \u001b[0;36mAgent.planner_step\u001b[0;34m(self)\u001b[0m\n\u001b[1;32m    275\u001b[0m \u001b[38;5;250m\u001b[39m\u001b[38;5;124;03m\"\"\"Send a planner request.\"\"\"\u001b[39;00m\n\u001b[1;32m    276\u001b[0m planner_step_request \u001b[38;5;241m=\u001b[39m agent_pb2\u001b[38;5;241m.\u001b[39mPlannerStepRequest()\n\u001b[0;32m--> 277\u001b[0m \u001b[38;5;28;43mself\u001b[39;49m\u001b[38;5;241;43m.\u001b[39;49m\u001b[43mstub\u001b[49m\u001b[38;5;241;43m.\u001b[39;49m\u001b[43mPlannerStep\u001b[49m\u001b[43m(\u001b[49m\u001b[43mplanner_step_request\u001b[49m\u001b[43m)\u001b[49m\n",
      "File \u001b[0;32m~/anaconda3/envs/mujpc/lib/python3.10/site-packages/grpc/_channel.py:944\u001b[0m, in \u001b[0;36m_UnaryUnaryMultiCallable.__call__\u001b[0;34m(self, request, timeout, metadata, credentials, wait_for_ready, compression)\u001b[0m\n\u001b[1;32m    937\u001b[0m \u001b[38;5;28;01mdef\u001b[39;00m \u001b[38;5;21m__call__\u001b[39m(\u001b[38;5;28mself\u001b[39m,\n\u001b[1;32m    938\u001b[0m              request,\n\u001b[1;32m    939\u001b[0m              timeout\u001b[38;5;241m=\u001b[39m\u001b[38;5;28;01mNone\u001b[39;00m,\n\u001b[0;32m   (...)\u001b[0m\n\u001b[1;32m    942\u001b[0m              wait_for_ready\u001b[38;5;241m=\u001b[39m\u001b[38;5;28;01mNone\u001b[39;00m,\n\u001b[1;32m    943\u001b[0m              compression\u001b[38;5;241m=\u001b[39m\u001b[38;5;28;01mNone\u001b[39;00m):\n\u001b[0;32m--> 944\u001b[0m     state, call, \u001b[38;5;241m=\u001b[39m \u001b[38;5;28;43mself\u001b[39;49m\u001b[38;5;241;43m.\u001b[39;49m\u001b[43m_blocking\u001b[49m\u001b[43m(\u001b[49m\u001b[43mrequest\u001b[49m\u001b[43m,\u001b[49m\u001b[43m \u001b[49m\u001b[43mtimeout\u001b[49m\u001b[43m,\u001b[49m\u001b[43m \u001b[49m\u001b[43mmetadata\u001b[49m\u001b[43m,\u001b[49m\u001b[43m \u001b[49m\u001b[43mcredentials\u001b[49m\u001b[43m,\u001b[49m\n\u001b[1;32m    945\u001b[0m \u001b[43m                                  \u001b[49m\u001b[43mwait_for_ready\u001b[49m\u001b[43m,\u001b[49m\u001b[43m \u001b[49m\u001b[43mcompression\u001b[49m\u001b[43m)\u001b[49m\n\u001b[1;32m    946\u001b[0m     \u001b[38;5;28;01mreturn\u001b[39;00m _end_unary_response_blocking(state, call, \u001b[38;5;28;01mFalse\u001b[39;00m, \u001b[38;5;28;01mNone\u001b[39;00m)\n",
      "File \u001b[0;32m~/anaconda3/envs/mujpc/lib/python3.10/site-packages/grpc/_channel.py:933\u001b[0m, in \u001b[0;36m_UnaryUnaryMultiCallable._blocking\u001b[0;34m(self, request, timeout, metadata, credentials, wait_for_ready, compression)\u001b[0m\n\u001b[1;32m    925\u001b[0m \u001b[38;5;28;01melse\u001b[39;00m:\n\u001b[1;32m    926\u001b[0m     call \u001b[38;5;241m=\u001b[39m \u001b[38;5;28mself\u001b[39m\u001b[38;5;241m.\u001b[39m_channel\u001b[38;5;241m.\u001b[39msegregated_call(\n\u001b[1;32m    927\u001b[0m         cygrpc\u001b[38;5;241m.\u001b[39mPropagationConstants\u001b[38;5;241m.\u001b[39mGRPC_PROPAGATE_DEFAULTS,\n\u001b[1;32m    928\u001b[0m         \u001b[38;5;28mself\u001b[39m\u001b[38;5;241m.\u001b[39m_method, \u001b[38;5;28;01mNone\u001b[39;00m, _determine_deadline(deadline), metadata,\n\u001b[0;32m   (...)\u001b[0m\n\u001b[1;32m    931\u001b[0m             \u001b[38;5;28;01mNone\u001b[39;00m,\n\u001b[1;32m    932\u001b[0m         ),), \u001b[38;5;28mself\u001b[39m\u001b[38;5;241m.\u001b[39m_context)\n\u001b[0;32m--> 933\u001b[0m     event \u001b[38;5;241m=\u001b[39m \u001b[43mcall\u001b[49m\u001b[38;5;241;43m.\u001b[39;49m\u001b[43mnext_event\u001b[49m\u001b[43m(\u001b[49m\u001b[43m)\u001b[49m\n\u001b[1;32m    934\u001b[0m     _handle_event(event, state, \u001b[38;5;28mself\u001b[39m\u001b[38;5;241m.\u001b[39m_response_deserializer)\n\u001b[1;32m    935\u001b[0m     \u001b[38;5;28;01mreturn\u001b[39;00m state, call\n",
      "File \u001b[0;32msrc/python/grpcio/grpc/_cython/_cygrpc/channel.pyx.pxi:338\u001b[0m, in \u001b[0;36mgrpc._cython.cygrpc.SegregatedCall.next_event\u001b[0;34m()\u001b[0m\n",
      "File \u001b[0;32msrc/python/grpcio/grpc/_cython/_cygrpc/channel.pyx.pxi:169\u001b[0m, in \u001b[0;36mgrpc._cython.cygrpc._next_call_event\u001b[0;34m()\u001b[0m\n",
      "File \u001b[0;32msrc/python/grpcio/grpc/_cython/_cygrpc/channel.pyx.pxi:163\u001b[0m, in \u001b[0;36mgrpc._cython.cygrpc._next_call_event\u001b[0;34m()\u001b[0m\n",
      "File \u001b[0;32msrc/python/grpcio/grpc/_cython/_cygrpc/completion_queue.pyx.pxi:63\u001b[0m, in \u001b[0;36mgrpc._cython.cygrpc._latent_event\u001b[0;34m()\u001b[0m\n",
      "File \u001b[0;32msrc/python/grpcio/grpc/_cython/_cygrpc/completion_queue.pyx.pxi:42\u001b[0m, in \u001b[0;36mgrpc._cython.cygrpc._next\u001b[0;34m()\u001b[0m\n",
      "\u001b[0;31mKeyboardInterrupt\u001b[0m: "
     ]
    }
   ],
   "source": [
    "\n",
    "# simulate\n",
    "T=10\n",
    "for t in tqdm(range(T - 1)):\n",
    "  if t % 100 == 0:\n",
    "    print(\"t = \", t)\n",
    "\n",
    "  # set planner state\n",
    "  agent.set_state(\n",
    "      time=data.time,\n",
    "      qpos=data.qpos,\n",
    "      qvel=data.qvel,\n",
    "      act=data.act,\n",
    "      #mocap_pos=data.mocap_pos,\n",
    "      #mocap_quat=data.mocap_quat,\n",
    "      #userdata=data.userdata,\n",
    "  )\n",
    "\n",
    "  # run planner for num_steps\n",
    "  num_steps = 10\n",
    "  for _ in range(num_steps):\n",
    "    agent.planner_step()\n",
    "\n",
    "  # get costs\n",
    "  cost_total[t] = agent.get_total_cost()\n",
    "  for i, c in enumerate(agent.get_cost_term_values().items()):\n",
    "    cost_terms[i, t] = c[1]\n",
    "\n",
    "  # set ctrl from agent policy\n",
    "  data.ctrl = agent.get_action()\n",
    "  ctrl[:, t] = data.ctrl\n",
    "\n",
    "  # step\n",
    "  mujoco.mj_step(model, data)\n",
    "\n",
    "  # cache\n",
    "  qpos[:, t + 1] = data.qpos\n",
    "  qvel[:, t + 1] = data.qvel\n",
    "  time[t + 1] = data.time\n",
    "\n",
    "  # render and save frames\n",
    "  renderer.update_scene(data)\n",
    "  pixels = renderer.render()\n",
    "  frames.append(pixels)\n",
    "\n",
    "# reset\n",
    "agent.reset()\n"
   ]
  },
  {
   "cell_type": "code",
   "execution_count": null,
   "metadata": {},
   "outputs": [],
   "source": [
    "\n",
    "# display video\n",
    "# SLOWDOWN = 0.5\n",
    "# media.show_video(frames, fps=SLOWDOWN * FPS)\n"
   ]
  },
  {
   "cell_type": "code",
   "execution_count": null,
   "metadata": {},
   "outputs": [],
   "source": [
    "\n",
    "# %%\n",
    "# plot position\n",
    "fig = plt.figure()\n",
    "\n",
    "plt.plot(time, qpos[0, :], label=\"q0\", color=\"blue\")\n",
    "plt.plot(time, qpos[1, :], label=\"q1\", color=\"orange\")\n",
    "\n",
    "plt.legend()\n",
    "plt.xlabel(\"Time (s)\")\n",
    "plt.ylabel(\"Configuration\")\n",
    "\n",
    "# %%\n",
    "# plot velocity\n",
    "fig = plt.figure()\n",
    "\n",
    "plt.plot(time, qvel[0, :], label=\"v0\", color=\"blue\")\n",
    "plt.plot(time, qvel[1, :], label=\"v1\", color=\"orange\")\n",
    "\n",
    "plt.legend()\n",
    "plt.xlabel(\"Time (s)\")\n",
    "plt.ylabel(\"Velocity\")\n",
    "\n",
    "# %%\n",
    "# plot control\n",
    "fig = plt.figure()\n",
    "\n",
    "plt.plot(time[:-1], ctrl[0, :], color=\"blue\")\n",
    "\n",
    "plt.xlabel(\"Time (s)\")\n",
    "plt.ylabel(\"Control\")\n",
    "\n",
    "# %%\n",
    "# plot costs\n",
    "fig = plt.figure()\n",
    "\n",
    "for i, c in enumerate(agent.get_cost_term_values().items()):\n",
    "  plt.plot(time[:-1], cost_terms[i, :], label=c[0])\n",
    "\n",
    "plt.plot(time[:-1], cost_total, label=\"Total (weighted)\", color=\"black\")\n",
    "\n",
    "plt.legend()\n",
    "plt.xlabel(\"Time (s)\")\n",
    "plt.ylabel(\"Costs\")\n"
   ]
  },
  {
   "cell_type": "code",
   "execution_count": null,
   "metadata": {},
   "outputs": [],
   "source": [
    "plt.imshow(frames[1])"
   ]
  },
  {
   "cell_type": "code",
   "execution_count": null,
   "metadata": {},
   "outputs": [],
   "source": []
  }
 ],
 "metadata": {
  "kernelspec": {
   "display_name": "mujoco",
   "language": "python",
   "name": "python3"
  },
  "language_info": {
   "codemirror_mode": {
    "name": "ipython",
    "version": 3
   },
   "file_extension": ".py",
   "mimetype": "text/x-python",
   "name": "python",
   "nbconvert_exporter": "python",
   "pygments_lexer": "ipython3",
   "version": "3.10.11"
  }
 },
 "nbformat": 4,
 "nbformat_minor": 2
}
