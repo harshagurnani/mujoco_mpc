{
 "cells": [
  {
   "cell_type": "markdown",
   "id": "0611ecc8-277c-4d53-9fa2-501ae815dba5",
   "metadata": {},
   "source": [
    "# Inverse kinematics fit from the fly hackathon"
   ]
  },
  {
   "cell_type": "code",
   "execution_count": null,
   "id": "07eed342-b635-4262-a19d-12c1090bd840",
   "metadata": {},
   "outputs": [],
   "source": [
    "from os import path as op\n",
    "import sys\n",
    "# sys.path.insert(0, op.abspath('/Users/eabe/Research/MyRepos/BiomechControl/models/fruitfly_v2/'))\n",
    "sys.path.insert(0, op.abspath('/Users/eabe/Research/Github/flybody'))\n",
    "\n",
    "from pathlib import Path\n",
    "import numpy as np\n",
    "import pandas as pd\n",
    "\n",
    "import matplotlib.pyplot as plt\n",
    "import PIL.ImageDraw\n",
    "from tqdm import tqdm\n",
    "\n",
    "from dm_control import mujoco\n",
    "from dm_control import mjcf\n",
    "from dm_control.mujoco.wrapper.mjbindings import enums\n",
    "from dm_control.mujoco.wrapper import mjbindings\n",
    "\n",
    "import sys\n",
    "sys.path.append('..')\n",
    "\n",
    "from flybody.inverse_kinematics import qpos_from_site_xpos\n",
    "from flybody.utils import display_video\n"
   ]
  },
  {
   "cell_type": "code",
   "execution_count": null,
   "id": "c9e209b6-40b9-4c2e-b65f-507216545850",
   "metadata": {},
   "outputs": [],
   "source": [
    "def transform_frame(frame):\n",
    "    \"\"\"Transform a single frame from data to model reference frame.\"\"\"\n",
    "    # Rotate around z-axis.\n",
    "    frame = frame[:, [1, 0, 2]]\n",
    "    frame[:, 1] *= -1\n",
    "    # Change units mm to cm.\n",
    "    frame *= 0.1\n",
    "    return frame"
   ]
  },
  {
   "cell_type": "markdown",
   "id": "58208dbb-978d-4273-8957-28a1cb1a3a26",
   "metadata": {},
   "source": [
    "# Load a single walking sequence"
   ]
  },
  {
   "cell_type": "code",
   "execution_count": null,
   "id": "51169675-558f-489f-9c0b-a5361a78c318",
   "metadata": {},
   "outputs": [],
   "source": [
    "base_path = Path('/Users/eabe/Research/MyRepos/mujoco_mpc/Archive/fruitfly')\n",
    "task_path = Path('/Users/eabe/Research/MyRepos/mujoco_mpc/mjpc/tasks/fruitfly/flytrackingqpos')\n",
    "\n",
    "data_path = base_path / 'combined_wt_berlin_walking_v3.pq'\n",
    "full_df = pd.read_parquet(data_path, engine='pyarrow')\n",
    "bout_stats = full_df.groupby(['walking_bout_number','fullfile','Sex'])[['fictrac_delta_rot_lab_y_mms', 'fictrac_delta_rot_lab_z_deg/s']].agg(['mean','min','max','std','count'])\n",
    "fast = (bout_stats[('fictrac_delta_rot_lab_y_mms','mean')] >= 12) & (bout_stats[('fictrac_delta_rot_lab_y_mms','min')] >= 10)\n",
    "straight = (bout_stats[('fictrac_delta_rot_lab_z_deg/s','mean')].abs() <= 45) &\\\n",
    "           (bout_stats[('fictrac_delta_rot_lab_z_deg/s','min')] >= -60) &\\\n",
    "           (bout_stats[('fictrac_delta_rot_lab_z_deg/s','max')] <= 60)\n",
    "\n",
    "#minlen =  bout_stats[('fictrac_delta_rot_lab_z_deg/s','count')] >= 300\n",
    "bout_stats[fast & straight].sort_values(('fictrac_delta_rot_lab_y_mms','min'))"
   ]
  },
  {
   "cell_type": "code",
   "execution_count": null,
   "id": "3290f03c",
   "metadata": {},
   "outputs": [],
   "source": [
    "walking_bout_n = 1\n",
    "df = full_df[full_df['walking_bout_number'] == 14574]\n",
    "df.shape"
   ]
  },
  {
   "cell_type": "code",
   "execution_count": null,
   "id": "6c2b6dec",
   "metadata": {},
   "outputs": [],
   "source": [
    "# full_df['walking_bout_number'].unique()\n",
    "walking_bout_n = 2\n",
    "df = full_df[full_df['walking_bout_number'] == 2244]\n",
    "df.shape"
   ]
  },
  {
   "cell_type": "code",
   "execution_count": null,
   "id": "3a8f591f",
   "metadata": {},
   "outputs": [],
   "source": [
    "for col in df.columns:\n",
    "    print(col)"
   ]
  },
  {
   "cell_type": "code",
   "execution_count": null,
   "id": "18a57ea7",
   "metadata": {},
   "outputs": [],
   "source": [
    "# joint_names_df = ['{}{}_{}'.format(leg, joint, axis) for leg in legs_data for joint in ['A', 'B', 'C', 'D'] for axis in ['abduct', 'flex', 'rot'] if '{}{}_{}'.format(leg, joint, axis) in df.columns]\n",
    "# joint_names_mujoco = ['{}{}_{}'.format(leg, joint, axis) for leg in legs for joint in ['A', 'B', 'C', 'D'] for axis in ['abduct', 'flex', 'rot'] if '{}{}_{}'.format(leg, joint, axis) in df.columns]"
   ]
  },
  {
   "cell_type": "code",
   "execution_count": null,
   "id": "46e88710",
   "metadata": {},
   "outputs": [],
   "source": [
    "joints_to_manipulate = ['coxa_abduct_T1_left',  'coxa_twist_T1_left',   'coxa_T1_left',   'femur_T1_left',  'femur_twist_T1_left',  'tibia_T1_left',    'tarsus_T1_left',\n",
    "                        'coxa_abduct_T1_right', 'coxa_twist_T1_right',  'coxa_T1_right',  'femur_T1_right', 'femur_twist_T1_right', 'tibia_T1_right',   'tarsus_T1_right',\n",
    "                        'coxa_abduct_T2_left',  'coxa_twist_T2_left',   'coxa_T2_left',   'femur_T2_left',  'femur_twist_T2_left',  'tibia_T2_left',    'tarsus_T2_left',\n",
    "                        'coxa_abduct_T2_right', 'coxa_twist_T2_right',  'coxa_T2_right',  'femur_T2_right', 'femur_twist_T2_right', 'tibia_T2_right',   'tarsus_T2_right',\n",
    "                        'coxa_abduct_T3_left',  'coxa_twist_T3_left',   'coxa_T3_left',   'femur_T3_left',  'femur_twist_T3_left',  'tibia_T3_left',    'tarsus_T3_left',\n",
    "                        'coxa_abduct_T3_right', 'coxa_twist_T3_right',  'coxa_T3_right',  'femur_T3_right', 'femur_twist_T3_right', 'tibia_T3_right',   'tarsus_T3_right',]"
   ]
  },
  {
   "cell_type": "code",
   "execution_count": null,
   "id": "8994ee7c",
   "metadata": {},
   "outputs": [],
   "source": [
    "n = 3\n",
    "plt.plot(qpos[:,n+6])\n",
    "plt.plot(np.deg2rad(df[joint_names_df[n]].values) - np.deg2rad(df[joint_names_df[n]].values).mean())"
   ]
  },
  {
   "cell_type": "markdown",
   "id": "dd749e61-34ef-4c99-8188-f367114c4ac3",
   "metadata": {},
   "source": [
    "# Load the fly model"
   ]
  },
  {
   "cell_type": "code",
   "execution_count": null,
   "id": "4a5e2bea-2e60-484d-830f-cac3a1e9bc9c",
   "metadata": {},
   "outputs": [],
   "source": [
    "xml_path = task_path / 'task.xml'\n",
    "# xml_path = task_path.parent / 'fruitfly_force.xml'\n",
    "mjcf_model = mjcf.from_path(xml_path)"
   ]
  },
  {
   "cell_type": "code",
   "execution_count": null,
   "id": "bbbacbab-f533-45d0-9735-19be743175de",
   "metadata": {},
   "outputs": [],
   "source": [
    "# Visualize fly as loaded.\n",
    "physics = mjcf.Physics.from_mjcf_model(mjcf_model)\n",
    "# physics.model.geom('floor').pos = (0, 0, -.137)\n",
    "_ = physics.reset()\n",
    "# retract_wings(physics, prefix='')\n",
    "# physics.step()\n",
    "pixels = physics.render(camera_id=1, width=640, height=480)\n",
    "PIL.Image.fromarray(pixels)"
   ]
  },
  {
   "cell_type": "code",
   "execution_count": null,
   "id": "ec5ecd9f",
   "metadata": {},
   "outputs": [],
   "source": [
    "legs = ['T1_left', 'T1_right', 'T2_left', 'T2_right', 'T3_left', 'T3_right']\n",
    "joints = ['coxa', 'femur', 'tibia', 'tarsus']\n",
    "xpos_geoms = ['coxa', 'femur', 'tibia', 'tarsus', 'claw']\n",
    "joint_names = [f'{joint}_{leg}' for leg in legs for joint in joints]\n",
    "xpos_names = [f'{joint}_{leg}' for leg in legs for joint in xpos_geoms]\n",
    "# physics.named.data.framepos[pos_names]\n",
    "site_names = [f'tracking[{joint_name}]' for joint_name in xpos_names]\n",
    "\n",
    "legs_data = ['L1', 'R1', 'L2','R2', 'L3','R3']\n",
    "joints_data = ['A','B','C','D','E']\n",
    "coords_data = ['_x','_y','_z']\n",
    "joint_pos_columns = [leg + joint + coord \n",
    "                     for leg in legs_data\n",
    "                     for joint in joints_data \n",
    "                     for coord in coords_data]"
   ]
  },
  {
   "cell_type": "markdown",
   "id": "c68bc518-09b8-48df-9457-607945d96b7b",
   "metadata": {},
   "source": [
    "# Generate joint sequences in model and data in matching order"
   ]
  },
  {
   "cell_type": "code",
   "execution_count": null,
   "id": "9abf6832-49ed-4df1-bebb-0cf0fab83be8",
   "metadata": {},
   "outputs": [],
   "source": [
    "# Model.\n",
    "# mjcf_model = mjcf.from_path(xml_path)\n",
    "# legs = ['T1_left', 'T1_right', 'T2_left', 'T2_right', 'T3_left', 'T3_right']\n",
    "# joints = ['coxa', 'femur', 'tibia', 'tarsus', 'claw']\n",
    "# joint_names = [f'{joint}_{leg}' for leg in legs for joint in joints]\n",
    "\n",
    "# Data.\n",
    "legs_data = ['L1', 'R1', 'L2','R2', 'L3','R3']\n",
    "joints_data = ['A','B','C','D','E']\n",
    "coords_data = ['_x','_y','_z']\n",
    "joint_pos_columns = [leg + joint + coord \n",
    "                     for leg in legs_data\n",
    "                     for joint in joints_data \n",
    "                     for coord in coords_data]"
   ]
  },
  {
   "cell_type": "code",
   "execution_count": null,
   "id": "c84aad83",
   "metadata": {},
   "outputs": [],
   "source": [
    "for joint in joint_names:\n",
    "    mjcf_model.find('joint', joint)\n"
   ]
  },
  {
   "cell_type": "markdown",
   "id": "dc0c452c-acde-4597-be9f-1a4f6205ed67",
   "metadata": {},
   "source": [
    "# Visualize a single frame"
   ]
  },
  {
   "cell_type": "code",
   "execution_count": null,
   "id": "aeeb3143-32d8-4ad2-8a7a-9911c6d83c27",
   "metadata": {},
   "outputs": [],
   "source": [
    "frame_idx = 0\n",
    "test_frame = df[joint_pos_columns].values[frame_idx, :].reshape(30, 3)  # (keypoint, xyz)\n",
    "\n",
    "plt.figure(figsize=(12, 4))\n",
    "plt.subplot(1, 2, 1)\n",
    "plt.scatter(test_frame[:, 0], test_frame[:, 1], c=np.arange(30))\n",
    "plt.axis('equal')\n",
    "plt.xlabel('x (mm)')\n",
    "plt.ylabel('y (mm)')\n",
    "plt.title('top-down view')\n",
    "plt.subplot(1, 2, 2)\n",
    "plt.scatter(test_frame[:, 0], test_frame[:, 2], c=np.arange(30))\n",
    "plt.axis('equal')\n",
    "plt.xlabel('x (mm)')\n",
    "plt.ylabel('z (mm)')\n",
    "plt.title('side view')"
   ]
  },
  {
   "cell_type": "markdown",
   "id": "8a6b2bcc-151d-46d8-bf96-353ccce41152",
   "metadata": {},
   "source": [
    "# Compare model's initial position with first data frame"
   ]
  },
  {
   "cell_type": "code",
   "execution_count": null,
   "id": "8898ade8-c1ec-415f-a5cb-69b0201e3372",
   "metadata": {},
   "outputs": [],
   "source": [
    "# Get the first frame.\n",
    "frame0 = df[joint_pos_columns].values[0, :].reshape(30, 3)  # (keypoint, xyz)\n",
    "frame0 = transform_frame(frame0)\n",
    "site_pos = physics.named.data.site_xpos[site_names]\n",
    "# Shift to match origin of data and model.\n",
    "frame0 += site_pos[0, :]  # Body-coxa T1 left joint is the data origin."
   ]
  },
  {
   "cell_type": "code",
   "execution_count": null,
   "id": "c94ad855-ce76-4a0f-a104-4b9f0b35e8e3",
   "metadata": {},
   "outputs": [],
   "source": [
    "plt.scatter(frame0[:, 0], frame0[:, 1], c=np.arange(30), label='data')\n",
    "plt.scatter(site_pos[:, 0], site_pos[:, 1], marker='x', s=100, c=np.arange(30), label='model')\n",
    "plt.axis('equal')\n",
    "plt.title('initial site positions before fitting')\n",
    "plt.xlabel('x (cm)')\n",
    "plt.ylabel('y (cm)')\n",
    "plt.legend()\n",
    "plt.grid()"
   ]
  },
  {
   "cell_type": "markdown",
   "id": "4f6e442d-5169-4deb-87af-e7400d0171c2",
   "metadata": {},
   "source": [
    "# Try fitting one frame"
   ]
  },
  {
   "cell_type": "code",
   "execution_count": null,
   "id": "5bf73f1a-ec63-4144-b26a-584ea0cb03d5",
   "metadata": {},
   "outputs": [],
   "source": [
    "# Manipulate all joints for now.\n",
    "joints_to_manipulate = [j.name for j in mjcf_model.find_all('joint')]"
   ]
  },
  {
   "cell_type": "code",
   "execution_count": null,
   "id": "1d7da828",
   "metadata": {},
   "outputs": [],
   "source": [
    "frame0.shape, len(joints_to_manipulate), len(site_names)"
   ]
  },
  {
   "cell_type": "code",
   "execution_count": null,
   "id": "dbfa4545-ddd9-4575-9a40-aba178d88795",
   "metadata": {},
   "outputs": [],
   "source": [
    "_ = physics.reset()\n",
    "# retract_wings(physics, prefix='')\n",
    "\n",
    "# Run IK fit on one frame.\n",
    "res = qpos_from_site_xpos(physics, site_names, frame0, joints_to_manipulate, inplace=True)"
   ]
  },
  {
   "cell_type": "code",
   "execution_count": null,
   "id": "8bb97a4a",
   "metadata": {},
   "outputs": [],
   "source": [
    "res.qpos"
   ]
  },
  {
   "cell_type": "code",
   "execution_count": null,
   "id": "7961868d",
   "metadata": {},
   "outputs": [],
   "source": [
    "plt.plot(res.qpos)\n"
   ]
  },
  {
   "cell_type": "code",
   "execution_count": null,
   "id": "da7af07c-23b0-44db-bc80-8ffab8a1a43b",
   "metadata": {},
   "outputs": [],
   "source": [
    "# Compare site positions after fitting.\n",
    "site_pos = physics.named.data.site_xpos[site_names]\n",
    "plt.scatter(frame0[:, 0], frame0[:, 1], c=np.arange(30), label='data')\n",
    "plt.scatter(site_pos[:, 0], site_pos[:, 1], marker='x', s=100, c=np.arange(30), label='fitted model')\n",
    "plt.axis('equal')\n",
    "plt.title('site positions after test-fitting one frame')\n",
    "plt.xlabel('x (cm)')\n",
    "plt.ylabel('y (cm)')\n",
    "plt.legend()\n",
    "plt.grid()"
   ]
  },
  {
   "cell_type": "code",
   "execution_count": null,
   "id": "2b02c73f",
   "metadata": {},
   "outputs": [],
   "source": [
    "# #add ball\n",
    "# texture = mjcf_model.asset.add('texture', rgb1=[.2, .3, .4], rgb2=[.1, .2, .3],\n",
    "#                                type='2d', builtin='checker', name='groundplane',\n",
    "#                                width=200, height=200,)\n",
    "# material = mjcf_model.asset.add('material', name='ballsurface', \n",
    "#                                 texrepeat=[2, 2],  # Makes white squares exactly 1x1 length units.\n",
    "#                                 texuniform=True,\n",
    "#                                 reflectance=0.2,\n",
    "#                                 texture=texture)\n",
    "\n",
    "# # Remove freejoint.\n",
    "# freejoint = mjcf_model.find('joint', 'free')\n",
    "# if freejoint is not None:\n",
    "#     freejoint.remove()\n",
    "    \n",
    "# # == Add ball.\n",
    "# radius = 0.454  # Pick ball radius.\n",
    "# # Calculate ball position wrt fly given ball radius.\n",
    "# claw_T1_left = np.array([0.09178167, 0.08813114, -0.12480448])\n",
    "# ball_x = - 0.05\n",
    "# ball_z = - np.sqrt(radius**2 \n",
    "#                    - (claw_T1_left[0] - ball_x)**2 \n",
    "#                    - claw_T1_left[1]**2) + claw_T1_left[2]\n",
    "# ball = mjcf_model.worldbody.add('body', name='ball', pos=(ball_x, 0, ball_z))\n",
    "# ball.add('geom', type='sphere', size=(radius, 0, 0),\n",
    "#          material=material, density=0.1)  # Density of water in cgs == 1.\n",
    "# ball_joint = ball.add('joint', name='ball', type='ball')\n",
    "\n",
    "# # Exclude \"surprising collisions\".\n",
    "# for child in mjcf_model.find('body', 'thorax').all_children():\n",
    "#     if child.tag == 'body':\n",
    "#         mjcf_model.contact.add('exclude', name=f'thorax_{child.name}',\n",
    "#                                body1='thorax', body2=child.name)"
   ]
  },
  {
   "cell_type": "code",
   "execution_count": null,
   "id": "0f391c18",
   "metadata": {},
   "outputs": [],
   "source": [
    "for n in range(1, 100):\n",
    "    physics.step()"
   ]
  },
  {
   "cell_type": "code",
   "execution_count": null,
   "id": "9b01a247-43c4-48a3-a571-6632d4986b29",
   "metadata": {},
   "outputs": [],
   "source": [
    "# physics = mjcf.Physics.from_mjcf_model(mjcf_model)\n",
    "# physics.model.geom('floor').pos = (0, 0, -.137)\n",
    "_ = physics.reset()\n",
    "# Visualize model fitted to first frame.\n",
    "scene_option = mujoco.wrapper.core.MjvOption()\n",
    "scene_option.flags[enums.mjtVisFlag.mjVIS_CONTACTPOINT] = True\n",
    "scene_option.flags[mujoco.mjtVisFlag.mjVIS_CONTACTFORCE] = True\n",
    "pixels = physics.render(camera_id=0, width=640, height=480,scene_option=scene_option)\n",
    "PIL.Image.fromarray(pixels)"
   ]
  },
  {
   "cell_type": "markdown",
   "id": "1a4080a5-31b4-4062-b1b1-445d958f7751",
   "metadata": {},
   "source": [
    "# Try fitting all frames"
   ]
  },
  {
   "cell_type": "code",
   "execution_count": null,
   "id": "7b3919f4-f9aa-4f26-8ee0-99f7579f3503",
   "metadata": {},
   "outputs": [],
   "source": [
    "_ = physics.reset()\n",
    "# retract_wings(physics, prefix='')\n",
    "\n",
    "site_pos = physics.named.data.site_xpos[site_names]\n",
    "joints_to_manipulate = ['coxa_abduct_T1_left',  'coxa_twist_T1_left',   'coxa_T1_left',   'femur_T1_left',  'femur_twist_T1_left',  'tibia_T1_left',    'tarsus_T1_left',\n",
    "                        'coxa_abduct_T1_right', 'coxa_twist_T1_right',  'coxa_T1_right',  'femur_T1_right', 'femur_twist_T1_right', 'tibia_T1_right',   'tarsus_T1_right',\n",
    "                        'coxa_abduct_T2_left',  'coxa_twist_T2_left',   'coxa_T2_left',   'femur_T2_left',  'femur_twist_T2_left',  'tibia_T2_left',    'tarsus_T2_left',\n",
    "                        'coxa_abduct_T2_right', 'coxa_twist_T2_right',  'coxa_T2_right',  'femur_T2_right', 'femur_twist_T2_right', 'tibia_T2_right',   'tarsus_T2_right',\n",
    "                        'coxa_abduct_T3_left',  'coxa_twist_T3_left',   'coxa_T3_left',   'femur_T3_left',  'femur_twist_T3_left',  'tibia_T3_left',    'tarsus_T3_left',\n",
    "                        'coxa_abduct_T3_right', 'coxa_twist_T3_right',  'coxa_T3_right',  'femur_T3_right', 'femur_twist_T3_right', 'tibia_T3_right',   'tarsus_T3_right',]\n",
    "\n",
    "qpos = []\n",
    "all_frames = []\n",
    "n_frames = len(df[joint_pos_columns].values)\n",
    "for i in tqdm(range(n_frames)):\n",
    "    # Prepare frame for fitting.\n",
    "    frame = df[joint_pos_columns].values[i, :].reshape(30, 3)  # (keypoint, xyz)\n",
    "    frame = transform_frame(frame)\n",
    "    frame += site_pos[0, :]  # Shift to body-coxa T1 left joint.\n",
    "    all_frames.append(frame)\n",
    "    # _ = physics.reset()\n",
    "    # Run IK fit on current frame.\n",
    "    res = qpos_from_site_xpos(physics, site_names, frame, joints_to_manipulate, inplace=True)\n",
    "    # Store qpos results.\n",
    "    qpos.append(res.qpos.copy())\n",
    "all_frames = np.stack(all_frames)\n",
    "qpos = np.stack(qpos)\n"
   ]
  },
  {
   "cell_type": "code",
   "execution_count": null,
   "id": "f00d46eb",
   "metadata": {},
   "outputs": [],
   "source": [
    "plt.plot(qpos[:,7:])\n",
    "plt.show()"
   ]
  },
  {
   "cell_type": "code",
   "execution_count": null,
   "id": "d6628f57",
   "metadata": {},
   "outputs": [],
   "source": [
    "len(joints_to_manipulate)"
   ]
  },
  {
   "cell_type": "code",
   "execution_count": null,
   "id": "a981990c",
   "metadata": {},
   "outputs": [],
   "source": [
    "# qpos_stand = qpos[0,:] #np.array([0,0,0,0,0,0,0,0, 0, 0.000178521, -1.07906e-05, 0, 0.00022365, 0.00012099, 0, 0, 0, 0, 0, 0, -8.21227e-05, 1.7515e-05, 0, -6.83271e-05, -1.73481e-05, 0, 0, 0, 0, 0, 0, -7.29514e-05, 8.13461e-05, 0, -4.55924e-05, 1.73673e-05, 0, 0, 0, 0, 0, 0, -0.000200893, 0.000243786, 0, -9.05341e-05, -1.9564e-05, 0, 0, 0, 0, 0, 0, 0.000307064, -0.000344922, 0, 2.74459e-05, 5.30669e-06, 0, 0, 0, 0, 0, 0, 0.000162806, -7.42181e-05, 0, 0.000232139, 7.99452e-05, 0, 0, 0, 0])\n",
    "# qvel_stand = np.zeros((qpos_stand.shape[0]-1))\n",
    "qvel = np.diff(qpos, axis=0, prepend=qpos[0:1,:])\n",
    "qvel = qvel[:,1:]"
   ]
  },
  {
   "cell_type": "code",
   "execution_count": null,
   "id": "c2df4398",
   "metadata": {},
   "outputs": [],
   "source": [
    "interp_time = np.linspace(0,all_frames.shape[0],10*all_frames.shape[0])\n",
    "time = np.linspace(0,all_frames.shape[0],all_frames.shape[0])\n",
    "mod_frames = np.zeros((interp_time.shape[0],all_frames.shape[1],all_frames.shape[2]))\n",
    "qpos_frames = np.zeros((interp_time.shape[0],qpos.shape[1]))\n",
    "qvel_frames = np.zeros((interp_time.shape[0],qvel.shape[1]))\n",
    "for n in range(all_frames.shape[1]):\n",
    "    for m in range(all_frames.shape[2]):\n",
    "        mod_frames[:,n,m] = np.interp(interp_time, time, all_frames[:,n,m])\n",
    "for n in range(qpos.shape[1]):\n",
    "    qpos_frames[:,n] = np.interp(interp_time, time, qpos[:,n])\n",
    "for n in range(qvel.shape[1]):    \n",
    "    qvel_frames[:,n] = np.interp(interp_time, time, qvel[:,n])\n"
   ]
  },
  {
   "cell_type": "code",
   "execution_count": null,
   "id": "74017be4",
   "metadata": {},
   "outputs": [],
   "source": [
    "mod_frames = all_frames\n",
    "qpos_frames = qpos\n",
    "qvel_frames = qvel"
   ]
  },
  {
   "cell_type": "code",
   "execution_count": null,
   "id": "cdef1f8c",
   "metadata": {},
   "outputs": [],
   "source": [
    "# mod_frames = all_frames.copy()\n",
    "mod_frames[:,:,-1] = mod_frames[:,:,-1]+0.021\n",
    "mod_frames[:,:,-1] = np.clip(mod_frames[:,:,-1],-0.135,10)\n",
    "print(np.min(mod_frames[:,:,-1]),np.max(mod_frames[:,:,-1]))"
   ]
  },
  {
   "cell_type": "code",
   "execution_count": null,
   "id": "2169543d",
   "metadata": {},
   "outputs": [],
   "source": [
    "root = mjcf.RootElement()\n",
    "root.keyframe.add('key', name=f'walk{walking_bout_n}_1', mpos=mod_frames[0].flatten(),qpos=qpos_frames[0].flatten(),qvel=qvel_frames[0].flatten())\n",
    "for n in tqdm(range(2,mod_frames.shape[0])):\n",
    "    root.keyframe.add('key', name=f'walk{walking_bout_n}_{n}', mpos=mod_frames[n].flatten(),qpos=qpos_frames[n].flatten())\n",
    "    \n",
    "# save xml file\n",
    "keyframe_path = task_path / 'keyframes/'\n",
    "mjcf.export_with_assets(root, keyframe_path, f'Fly_walk_free_qpos{walking_bout_n}.xml')\n",
    "keyframe_path/f'Fly_walk_qpos{walking_bout_n}.xml'"
   ]
  },
  {
   "cell_type": "code",
   "execution_count": null,
   "id": "443ffa9d",
   "metadata": {},
   "outputs": [],
   "source": [
    "root = mjcf.RootElement()\n",
    "root.keyframe.add('key', name=f'walk{walking_bout_n}_1', mpos=mod_frames[0].flatten(),qpos=qpos[0].flatten(),qvel=qvel.flatten())\n",
    "for n in range(2,mod_frames.shape[0]):\n",
    "    root.keyframe.add('key', name=f'walk{walking_bout_n}_{n}', mpos=mod_frames[n].flatten())\n",
    "    \n",
    "# save xml file\n",
    "keyframe_path = task_path / 'keyframes/'\n",
    "mjcf.export_with_assets(root, keyframe_path,f'Fly_walk_free_pos{walking_bout_n}.xml')\n",
    "keyframe_path/f'Fly_walk_pos{walking_bout_n}.xml'"
   ]
  },
  {
   "cell_type": "code",
   "execution_count": null,
   "id": "f0b51670",
   "metadata": {},
   "outputs": [],
   "source": []
  },
  {
   "cell_type": "code",
   "execution_count": null,
   "id": "9f45927e",
   "metadata": {},
   "outputs": [],
   "source": [
    "_ = physics.reset()\n",
    "t = 0\n",
    "scene_option.sitegroup[:] = [1, 1, 1, 1, 1, 1]\n",
    "physics.data.mocap_pos = mod_frames[t]\n",
    "physics.data.qpos = qpos[t]\n",
    "for t in range(10):\n",
    "    physics.step()\n",
    "pixels = physics.render(camera_id=1, width=640, height=480, scene_option=scene_option)\n",
    "# qpos_stand = physics.named.data.qpos\n",
    "# qvel_stand = physics.named.data.qvel\n",
    "PIL.Image.fromarray(pixels)"
   ]
  },
  {
   "cell_type": "code",
   "execution_count": null,
   "id": "812874c4",
   "metadata": {},
   "outputs": [],
   "source": []
  },
  {
   "cell_type": "code",
   "execution_count": null,
   "id": "4c70de5b",
   "metadata": {},
   "outputs": [],
   "source": []
  },
  {
   "cell_type": "code",
   "execution_count": null,
   "id": "2666ea00",
   "metadata": {},
   "outputs": [],
   "source": [
    "np.set_printoptions(suppress=True)\n",
    "# print([\"{:.02f}\".format(qqpos) for qqpos in physics.data.qpos])"
   ]
  },
  {
   "cell_type": "code",
   "execution_count": null,
   "id": "563db9e1-2cbf-4275-9d31-8463d60c8579",
   "metadata": {},
   "outputs": [],
   "source": [
    "# Generate video of fitted poses.\n",
    "\n",
    "camera_id = 1 # Side view.\n",
    "\n",
    "# Hide all sites.\n",
    "scene_option = mujoco.wrapper.core.MjvOption()\n",
    "scene_option.sitegroup[:] = [1, 1, 1, 0, 0, 0]\n",
    "scene_option.flags[enums.mjtVisFlag.mjVIS_CONTACTPOINT] = True\n",
    "scene_option.flags[mujoco.mjtVisFlag.mjVIS_CONTACTFORCE] = True\n",
    "\n",
    "\n",
    "#retract_wings(physics)\n",
    "\n",
    "video_frames = []\n",
    "for q in tqdm(qpos):\n",
    "    with physics.reset_context():\n",
    "        physics.data.qpos = q.copy()\n",
    "    pixels = physics.render(camera_id=camera_id, width=640, height=480, scene_option=scene_option)\n",
    "    video_frames.append(pixels)"
   ]
  },
  {
   "cell_type": "code",
   "execution_count": null,
   "id": "32d2bd4f-e13b-44e0-a882-c80424793026",
   "metadata": {},
   "outputs": [],
   "source": [
    "display_video(video_frames, framerate=30)"
   ]
  },
  {
   "cell_type": "code",
   "execution_count": null,
   "id": "bb0c821d",
   "metadata": {},
   "outputs": [],
   "source": []
  },
  {
   "cell_type": "code",
   "execution_count": null,
   "id": "1ab1166e",
   "metadata": {},
   "outputs": [],
   "source": [
    "# Visualize fly standing\n",
    "physics.reset()\n",
    "\n",
    "scene_option = mujoco.wrapper.core.MjvOption()\n",
    "scene_option.sitegroup[:] = [1, 1, 1, 1, 1, 1]\n",
    "scene_option.flags[enums.mjtVisFlag.mjVIS_CONTACTPOINT] = True\n",
    "scene_option.flags[mujoco.mjtVisFlag.mjVIS_CONTACTFORCE] = True\n",
    "physics.data.qpos = np.zeros(qpos.shape[1])\n",
    "# for n in range(1):\n",
    "#     physics.step()\n",
    "\n",
    "mod_frames_stand = np.stack([physics.named.data.xpos[xpos_names[n]] for n in range(len(xpos_names))])[None,:,:]\n",
    "physics.data.mocap_pos = mod_frames_stand[0]\n",
    "\n",
    "scene_option = mujoco.wrapper.core.MjvOption()\n",
    "scene_option.sitegroup[:] = [1, 1, 1, 1, 1, 1]\n",
    "scene_option.flags[enums.mjtVisFlag.mjVIS_CONTACTPOINT] = True\n",
    "scene_option.flags[mujoco.mjtVisFlag.mjVIS_CONTACTFORCE] = True\n",
    "for n in range(1):\n",
    "    physics.step()\n",
    "    \n",
    "pixels = physics.render(camera_id=1, width=640, height=480,scene_option=scene_option)\n",
    "PIL.Image.fromarray(pixels)"
   ]
  },
  {
   "cell_type": "code",
   "execution_count": null,
   "id": "eeb94af7",
   "metadata": {},
   "outputs": [],
   "source": [
    "t = 0\n",
    "qpos_stand = physics.named.data.qpos\n",
    "qvel_stand = np.zeros((qpos_stand.shape[0]-1))\n",
    "root = mjcf.RootElement()\n",
    "root.keyframe.add('key', name=f'stand{walking_bout_n}_1', mpos=mod_frames_stand[0].flatten(),qpos=qpos_stand.flatten(),qvel=qvel_stand.flatten())\n",
    "for n in range(2,100):\n",
    "    root.keyframe.add('key', name=f'stand{walking_bout_n}_{n}', mpos=mod_frames_stand[0].flatten(),qpos=qpos_stand.flatten())\n",
    "    \n",
    "# save xml file\n",
    "root.default.remove()\n",
    "keyframe_path = task_path / 'keyframes/'\n",
    "mjcf.export_with_assets(root, keyframe_path,f'Fly_stand_free_qpos{walking_bout_n}.xml')\n",
    "keyframe_path/f'Fly_stand_qpos{walking_bout_n}.xml'"
   ]
  },
  {
   "cell_type": "code",
   "execution_count": null,
   "id": "9acf1f1f",
   "metadata": {},
   "outputs": [],
   "source": [
    "plt.plot(physics.data.xpos[:,0], physics.data.xpos[:,1], 'o')\n",
    "plt.plot(mod_frames_stand[0,:,0], mod_frames_stand[0,:,1], 'x')"
   ]
  },
  {
   "cell_type": "code",
   "execution_count": null,
   "id": "2805cfbb",
   "metadata": {},
   "outputs": [],
   "source": []
  }
 ],
 "metadata": {
  "kernelspec": {
   "display_name": "Python 3",
   "language": "python",
   "name": "python3"
  },
  "language_info": {
   "codemirror_mode": {
    "name": "ipython",
    "version": 3
   },
   "file_extension": ".py",
   "mimetype": "text/x-python",
   "name": "python",
   "nbconvert_exporter": "python",
   "pygments_lexer": "ipython3",
   "version": "3.10.13"
  }
 },
 "nbformat": 4,
 "nbformat_minor": 5
}
